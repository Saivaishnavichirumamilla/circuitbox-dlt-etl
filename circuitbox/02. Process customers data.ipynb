{
 "cells": [
  {
   "cell_type": "markdown",
   "metadata": {
    "application/vnd.databricks.v1+cell": {
     "cellMetadata": {},
     "inputWidgets": {},
     "nuid": "a4b356af-fc35-4069-b521-6988f44edb48",
     "showTitle": false,
     "tableResultSettingsMap": {},
     "title": ""
    }
   },
   "source": [
    "###  Process the customers data\n",
    "\n",
    "  - Ingest the data into the data lakehouse - bronze_customers\n",
    "  - Perform data quality checks and trnsform the data as required - silver_customers_clean\n",
    "  - Apply chnages to the customers data - silver_customers\n",
    "\n"
   ]
  },
  {
   "cell_type": "markdown",
   "metadata": {
    "application/vnd.databricks.v1+cell": {
     "cellMetadata": {},
     "inputWidgets": {},
     "nuid": "fc97ced3-5a06-411a-aed3-fcc3c0c5cfec",
     "showTitle": false,
     "tableResultSettingsMap": {},
     "title": ""
    }
   },
   "source": [
    "#### Create streaming table\n"
   ]
  },
  {
   "cell_type": "code",
   "execution_count": 0,
   "metadata": {
    "application/vnd.databricks.v1+cell": {
     "cellMetadata": {
      "byteLimit": 2048000,
      "rowLimit": 10000
     },
     "inputWidgets": {},
     "nuid": "544b2fab-fc92-478c-82b2-0e9b75c4d9c3",
     "showTitle": false,
     "tableResultSettingsMap": {},
     "title": ""
    }
   },
   "outputs": [],
   "source": [
    "CREATE OR REFRESH STREAMING TABLE bronze_customers\n",
    "TBLPROPERTIES ('quality' = 'bronze')\n",
    "AS\n",
    "SELECT *,\n",
    "       _metadata.file_path AS input_file_path,\n",
    "       current_timestamp AS ingestion_timestamp\n",
    "FROM cloud_files(\n",
    "  '/Volumes/circuitbox/landing/operational_data/customers/',\n",
    "  'json',\n",
    "  map(\n",
    "    'cloudFiles.inferColumnTypes','true',\n",
    "    'cloudFiles.schemaLocation', '/Volumes/circuitbox/default/checkpoints_v/bronze_customers_schema'\n",
    "  )\n",
    ");\n"
   ]
  },
  {
   "cell_type": "markdown",
   "metadata": {
    "application/vnd.databricks.v1+cell": {
     "cellMetadata": {},
     "inputWidgets": {},
     "nuid": "8aba9abf-aaac-43e8-8fff-2d34f141081a",
     "showTitle": false,
     "tableResultSettingsMap": {},
     "title": ""
    }
   },
   "source": [
    "### silver_customers_clean\n",
    "- Use expectations to perform data quality checks\n",
    "- we use keyword 'Stream' to tell that to only load the incremental data from bronze table\n",
    "- And the keyword 'LIVE' can only be used inside same notebooks to get the table...it is DLT syntax."
   ]
  },
  {
   "cell_type": "code",
   "execution_count": 0,
   "metadata": {
    "application/vnd.databricks.v1+cell": {
     "cellMetadata": {
      "byteLimit": 2048000,
      "rowLimit": 10000
     },
     "inputWidgets": {},
     "nuid": "2543519f-c456-437a-a35e-c4847eee134d",
     "showTitle": false,
     "tableResultSettingsMap": {},
     "title": ""
    }
   },
   "outputs": [],
   "source": [
    "CREATE OR REFRESH STREAMING TABLE silver_customers_clean(\n",
    "  CONSTRAINT valid_customer_id  EXPECT(customer_id IS NOT NULL) ON VIOLATION FAIL UPDATE,\n",
    "  CONSTRAINT valid_customer_name EXPECT(customer_name IS NOT NULL) ON VIOLATION DROP ROW,\n",
    "  CONSTRAINT valid_email EXPECT(email IS NOT NULL),\n",
    "  CONSTRAINT valid_telephone EXPECT(LENGTH(telephone) >=10),\n",
    "  CONSTRAINT valid_created_date EXPECT(created_date IS NOT NULL),\n",
    "  CONSTRAINT valid_date_of_birth EXPECT(date_of_birth > '1920-01-01')\n",
    ")\n",
    "TBLPROPERTIES ('quality' = 'silver')\n",
    "AS\n",
    "SELECT \n",
    "customer_id,\n",
    "customer_name,\n",
    "CAST(date_of_birth AS DATE) as date_of_birth,\n",
    "telephone,\n",
    "email,\n",
    "CAST(created_date AS DATE) as created_date\n",
    "FROM STREAM(LIVE.bronze_customers)"
   ]
  },
  {
   "cell_type": "markdown",
   "metadata": {
    "application/vnd.databricks.v1+cell": {
     "cellMetadata": {},
     "inputWidgets": {},
     "nuid": "4cb88757-b3f4-440d-85f3-824491e0b163",
     "showTitle": false,
     "tableResultSettingsMap": {},
     "title": ""
    }
   },
   "source": [
    "### Apply changes to silver_customers_clean"
   ]
  },
  {
   "cell_type": "code",
   "execution_count": 0,
   "metadata": {
    "application/vnd.databricks.v1+cell": {
     "cellMetadata": {},
     "inputWidgets": {},
     "nuid": "1350cadd-0c8b-46b0-87db-5c976392da42",
     "showTitle": false,
     "tableResultSettingsMap": {},
     "title": ""
    }
   },
   "outputs": [],
   "source": [
    "CREATE OR REFRESH STREAMING TABLE silver_customers\n",
    "TBLPROPERTIES ('quality' = 'silver')"
   ]
  },
  {
   "cell_type": "code",
   "execution_count": 0,
   "metadata": {
    "application/vnd.databricks.v1+cell": {
     "cellMetadata": {},
     "inputWidgets": {},
     "nuid": "d6b80472-6936-4367-a07a-a7a2084604dd",
     "showTitle": false,
     "tableResultSettingsMap": {},
     "title": ""
    }
   },
   "outputs": [],
   "source": [
    "APPLY CHANGES INTO LIVE.silver_customers\n",
    "FROM STREAM(LIVE.silver_customers_clean)\n",
    "KEYS (customer_id)\n",
    "SEQUENCE BY created_date\n",
    "STORED AS SCD TYPE 1"
   ]
  }
 ],
 "metadata": {
  "application/vnd.databricks.v1+notebook": {
   "computePreferences": null,
   "dashboards": [],
   "environmentMetadata": {
    "base_environment": "",
    "environment_version": "2"
   },
   "inputWidgetPreferences": null,
   "language": "sql",
   "notebookMetadata": {
    "pythonIndentUnit": 4
   },
   "notebookName": "02. Process customers data",
   "widgets": {}
  },
  "language_info": {
   "name": "sql"
  }
 },
 "nbformat": 4,
 "nbformat_minor": 0
}
