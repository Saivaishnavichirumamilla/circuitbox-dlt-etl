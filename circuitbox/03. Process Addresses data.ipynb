{
 "cells": [
  {
   "cell_type": "code",
   "execution_count": 0,
   "metadata": {
    "application/vnd.databricks.v1+cell": {
     "cellMetadata": {
      "byteLimit": 2048000,
      "rowLimit": 10000
     },
     "inputWidgets": {},
     "nuid": "56d32dfa-7495-4094-bde4-fcd78ab08d23",
     "showTitle": false,
     "tableResultSettingsMap": {},
     "title": ""
    }
   },
   "outputs": [],
   "source": [
    "%pip install databricks-dlt\n",
    "\n",
    "import dlt\n",
    "import pyspark.sql.functions as F"
   ]
  },
  {
   "cell_type": "markdown",
   "metadata": {
    "application/vnd.databricks.v1+cell": {
     "cellMetadata": {},
     "inputWidgets": {},
     "nuid": "eac50b34-8524-44a7-8158-7d00b29d43f4",
     "showTitle": false,
     "tableResultSettingsMap": {},
     "title": ""
    }
   },
   "source": [
    "### Process Addresses data\n",
    "- ingest the data into data lakehouse - bronze_addresses\n",
    "- perform the data quality checks and transform the data as required - silver_addresses_clean\n",
    "- Apply changes to addresses dat (SCD Type 2) - silver_addresses"
   ]
  },
  {
   "cell_type": "code",
   "execution_count": 0,
   "metadata": {
    "application/vnd.databricks.v1+cell": {
     "cellMetadata": {
      "byteLimit": 2048000,
      "rowLimit": 10000
     },
     "inputWidgets": {},
     "nuid": "fb460c89-a287-405a-a073-db04f0ba6884",
     "showTitle": false,
     "tableResultSettingsMap": {},
     "title": ""
    }
   },
   "outputs": [],
   "source": [
    "import pyspark.sql.functions as F\n",
    "\n",
    "@dlt.table(\n",
    "    name=\"bronze_addresses\",\n",
    "    table_properties={\"quality\": \"true\"}\n",
    ")\n",
    "def bronze_addresses():\n",
    "    return(\n",
    "        spark.readStream\n",
    "             .format(\"cloudFiles\")\n",
    "             .option(\"cloudFiles.format\", \"csv\")\n",
    "             .option(\"cloudFiles.schemaLocation\",\"/Volumes/circuitbox/default/checkpoints_v/bronze_addresses_schema\")\n",
    "             .option(\"cloudFiles.inferColumnTypes\",\"true\")\n",
    "             .load(\"/Volumes/circuitbox/landing/operational_data/addresses/\")\n",
    "             .select(\n",
    "                 \"*\",\n",
    "                 F.col(\"_metadata.file_path\").alias(\"input_filepath\"),\n",
    "                 F.current_timestamp().alias(\"ingestion_timestamp\")\n",
    "\n",
    "             )\n",
    "    )\n"
   ]
  }
 ],
 "metadata": {
  "application/vnd.databricks.v1+notebook": {
   "computePreferences": null,
   "dashboards": [],
   "environmentMetadata": {
    "base_environment": "",
    "environment_version": "2"
   },
   "inputWidgetPreferences": null,
   "language": "python",
   "notebookMetadata": {
    "pythonIndentUnit": 4
   },
   "notebookName": "03. Process Addresses data",
   "widgets": {}
  },
  "language_info": {
   "name": "python"
  }
 },
 "nbformat": 4,
 "nbformat_minor": 0
}
